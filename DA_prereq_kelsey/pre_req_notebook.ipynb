{
 "cells": [
  {
   "cell_type": "code",
   "execution_count": null,
   "id": "712d5c20",
   "metadata": {},
   "outputs": [],
   "source": [
    "print(\"Hello, world!\")"
   ]
  },
  {
   "cell_type": "markdown",
   "id": "85be5a78",
   "metadata": {},
   "source": [
    "Hi, I'm Kelsey! I'm excited to learn data analysis. I've completed the Front-end Development pathway and the JavaScript pathway. I took some time off from learning and now I'm trying data analysis. "
   ]
  }
 ],
 "metadata": {
  "kernelspec": {
   "display_name": "Python 3",
   "language": "python",
   "name": "python3"
  },
  "language_info": {
   "name": "python",
   "version": "3.13.5"
  }
 },
 "nbformat": 4,
 "nbformat_minor": 5
}
